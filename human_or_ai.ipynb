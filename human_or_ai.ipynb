{
  "cells": [
    {
      "cell_type": "markdown",
      "metadata": {
        "id": "view-in-github",
        "colab_type": "text"
      },
      "source": [
        "<a href=\"https://colab.research.google.com/github/Ironman20121/Colabfiles/blob/main/human_or_ai.ipynb\" target=\"_parent\"><img src=\"https://colab.research.google.com/assets/colab-badge.svg\" alt=\"Open In Colab\"/></a>"
      ]
    },
    {
      "cell_type": "markdown",
      "id": "77dc2fd9-f0ef-4439-b547-2bea5ba10d55",
      "metadata": {
        "id": "77dc2fd9-f0ef-4439-b547-2bea5ba10d55"
      },
      "source": [
        "### The following graph depicts the results obtained from the Model Stealing implementation. Provide a comparative explanation of the above four categories\n",
        "![image.png](attachment:62b521de-7235-4ea2-b5d6-c2075bad2003.png)"
      ]
    },
    {
      "cell_type": "markdown",
      "source": [
        "\n",
        "\n",
        "\n",
        "---\n",
        "\n",
        "\n",
        "---\n",
        "\n",
        "\n",
        "\n",
        "Probabilistic KnockoffNets appear to be the most efficient method, requiring the least data to steal the model.\n",
        "Argmax CopycatCNN seems to be the least efficient method, requiring the largest dataset for stealing.\n",
        "A larger stealing dataset size might indicate lower efficiency.\n",
        "\n",
        "\n",
        "---\n",
        "\n",
        "\n",
        "\n"
      ],
      "metadata": {
        "id": "emvcASjnrWik"
      },
      "id": "emvcASjnrWik"
    },
    {
      "cell_type": "markdown",
      "id": "04b2b237-c9c7-4ded-9ca0-79715a9e7762",
      "metadata": {
        "id": "04b2b237-c9c7-4ded-9ca0-79715a9e7762"
      },
      "source": [
        "### You are tasked with developing a deep learning system to train and test a dataset provided in the \"human_or_ai.csv\" file using a deep neural network architecture. Follow the step-by-step approach outlined below to provide answers to the five tasks. Mame sure to provide the output that shows sucessful completion of the task."
      ]
    },
    {
      "cell_type": "markdown",
      "id": "90362222-9ebc-46e4-8369-54cc78ad5b0e",
      "metadata": {
        "id": "90362222-9ebc-46e4-8369-54cc78ad5b0e"
      },
      "source": [
        "### Task 1\n",
        "##### Data Exploration and Preprocessing:\n",
        "\n",
        "* Load the dataset from the \"human_or_ai.csv\" file.\n",
        "* Check for any missing values and handle them appropriately.\n",
        "* <font color=red>Explore the distribution of classes in the dataset (How many are AI generated and how many are human generated)</font>\n",
        "* <font color=red>Perform data exploration by displaying the first 20 rows of the dataset to understand its structure.</font>\n"
      ]
    },
    {
      "cell_type": "code",
      "execution_count": null,
      "id": "0b99f6a5-319b-41b6-8e6c-3363d87b9ca5",
      "metadata": {
        "tags": [],
        "colab": {
          "base_uri": "https://localhost:8080/",
          "height": 730
        },
        "id": "0b99f6a5-319b-41b6-8e6c-3363d87b9ca5",
        "outputId": "b672f05b-ca61-4c20-a2af-ee3cae1841ca"
      },
      "outputs": [
        {
          "output_type": "stream",
          "name": "stdout",
          "text": [
            "text         0\n",
            "generated    0\n",
            "dtype: int64\n"
          ]
        },
        {
          "output_type": "execute_result",
          "data": {
            "text/plain": [
              "                                                 text  generated\n",
              "0   The world is changing at a rapid pace, and wit...        1.0\n",
              "1   I think that The challenge of Exploring Venus ...        0.0\n",
              "2   Driving or any mother transportation is a bad ...        0.0\n",
              "3   Its no secret that driving automobiles has a l...        0.0\n",
              "4   Limiting can usage can have numerous advantage...        1.0\n",
              "5   Dear Senator,\\n\\nI am writing tn you today tn ...        1.0\n",
              "6   Although numerous amounts of people want to ba...        0.0\n",
              "7   In recent years, public school systems have At...        1.0\n",
              "8   In the Article \"Driverless Cars Are Coming\", I...        0.0\n",
              "9   Dear Principal,\\n\\nI think Policy 1 would be a...        0.0\n",
              "10  At first, this face ks just a natural landform...        0.0\n",
              "11  Advantages of Limiting Car Usage\\n\\nLimiting c...        1.0\n",
              "12  The Open Seas Await\\n\\nHaving recently returne...        1.0\n",
              "13  The benefits of Having music, drama, and ARH c...        1.0\n",
              "14  With the development of the world, different k...        1.0\n",
              "15  Dear State Senator,\\n\\nI think we should keep ...        0.0\n",
              "16  1.\\n\\nThe Seagoing Cowboys need more people no...        0.0\n",
              "17  I don't think that this system should be allow...        0.0\n",
              "18  Everyday people die in car accidents because t...        0.0\n",
              "19  I think policy one is good because at lunch st...        0.0"
            ],
            "text/html": [
              "\n",
              "  <div id=\"df-938bf871-8f85-4416-8c3e-f57bdf008464\" class=\"colab-df-container\">\n",
              "    <div>\n",
              "<style scoped>\n",
              "    .dataframe tbody tr th:only-of-type {\n",
              "        vertical-align: middle;\n",
              "    }\n",
              "\n",
              "    .dataframe tbody tr th {\n",
              "        vertical-align: top;\n",
              "    }\n",
              "\n",
              "    .dataframe thead th {\n",
              "        text-align: right;\n",
              "    }\n",
              "</style>\n",
              "<table border=\"1\" class=\"dataframe\">\n",
              "  <thead>\n",
              "    <tr style=\"text-align: right;\">\n",
              "      <th></th>\n",
              "      <th>text</th>\n",
              "      <th>generated</th>\n",
              "    </tr>\n",
              "  </thead>\n",
              "  <tbody>\n",
              "    <tr>\n",
              "      <th>0</th>\n",
              "      <td>The world is changing at a rapid pace, and wit...</td>\n",
              "      <td>1.0</td>\n",
              "    </tr>\n",
              "    <tr>\n",
              "      <th>1</th>\n",
              "      <td>I think that The challenge of Exploring Venus ...</td>\n",
              "      <td>0.0</td>\n",
              "    </tr>\n",
              "    <tr>\n",
              "      <th>2</th>\n",
              "      <td>Driving or any mother transportation is a bad ...</td>\n",
              "      <td>0.0</td>\n",
              "    </tr>\n",
              "    <tr>\n",
              "      <th>3</th>\n",
              "      <td>Its no secret that driving automobiles has a l...</td>\n",
              "      <td>0.0</td>\n",
              "    </tr>\n",
              "    <tr>\n",
              "      <th>4</th>\n",
              "      <td>Limiting can usage can have numerous advantage...</td>\n",
              "      <td>1.0</td>\n",
              "    </tr>\n",
              "    <tr>\n",
              "      <th>5</th>\n",
              "      <td>Dear Senator,\\n\\nI am writing tn you today tn ...</td>\n",
              "      <td>1.0</td>\n",
              "    </tr>\n",
              "    <tr>\n",
              "      <th>6</th>\n",
              "      <td>Although numerous amounts of people want to ba...</td>\n",
              "      <td>0.0</td>\n",
              "    </tr>\n",
              "    <tr>\n",
              "      <th>7</th>\n",
              "      <td>In recent years, public school systems have At...</td>\n",
              "      <td>1.0</td>\n",
              "    </tr>\n",
              "    <tr>\n",
              "      <th>8</th>\n",
              "      <td>In the Article \"Driverless Cars Are Coming\", I...</td>\n",
              "      <td>0.0</td>\n",
              "    </tr>\n",
              "    <tr>\n",
              "      <th>9</th>\n",
              "      <td>Dear Principal,\\n\\nI think Policy 1 would be a...</td>\n",
              "      <td>0.0</td>\n",
              "    </tr>\n",
              "    <tr>\n",
              "      <th>10</th>\n",
              "      <td>At first, this face ks just a natural landform...</td>\n",
              "      <td>0.0</td>\n",
              "    </tr>\n",
              "    <tr>\n",
              "      <th>11</th>\n",
              "      <td>Advantages of Limiting Car Usage\\n\\nLimiting c...</td>\n",
              "      <td>1.0</td>\n",
              "    </tr>\n",
              "    <tr>\n",
              "      <th>12</th>\n",
              "      <td>The Open Seas Await\\n\\nHaving recently returne...</td>\n",
              "      <td>1.0</td>\n",
              "    </tr>\n",
              "    <tr>\n",
              "      <th>13</th>\n",
              "      <td>The benefits of Having music, drama, and ARH c...</td>\n",
              "      <td>1.0</td>\n",
              "    </tr>\n",
              "    <tr>\n",
              "      <th>14</th>\n",
              "      <td>With the development of the world, different k...</td>\n",
              "      <td>1.0</td>\n",
              "    </tr>\n",
              "    <tr>\n",
              "      <th>15</th>\n",
              "      <td>Dear State Senator,\\n\\nI think we should keep ...</td>\n",
              "      <td>0.0</td>\n",
              "    </tr>\n",
              "    <tr>\n",
              "      <th>16</th>\n",
              "      <td>1.\\n\\nThe Seagoing Cowboys need more people no...</td>\n",
              "      <td>0.0</td>\n",
              "    </tr>\n",
              "    <tr>\n",
              "      <th>17</th>\n",
              "      <td>I don't think that this system should be allow...</td>\n",
              "      <td>0.0</td>\n",
              "    </tr>\n",
              "    <tr>\n",
              "      <th>18</th>\n",
              "      <td>Everyday people die in car accidents because t...</td>\n",
              "      <td>0.0</td>\n",
              "    </tr>\n",
              "    <tr>\n",
              "      <th>19</th>\n",
              "      <td>I think policy one is good because at lunch st...</td>\n",
              "      <td>0.0</td>\n",
              "    </tr>\n",
              "  </tbody>\n",
              "</table>\n",
              "</div>\n",
              "    <div class=\"colab-df-buttons\">\n",
              "\n",
              "  <div class=\"colab-df-container\">\n",
              "    <button class=\"colab-df-convert\" onclick=\"convertToInteractive('df-938bf871-8f85-4416-8c3e-f57bdf008464')\"\n",
              "            title=\"Convert this dataframe to an interactive table.\"\n",
              "            style=\"display:none;\">\n",
              "\n",
              "  <svg xmlns=\"http://www.w3.org/2000/svg\" height=\"24px\" viewBox=\"0 -960 960 960\">\n",
              "    <path d=\"M120-120v-720h720v720H120Zm60-500h600v-160H180v160Zm220 220h160v-160H400v160Zm0 220h160v-160H400v160ZM180-400h160v-160H180v160Zm440 0h160v-160H620v160ZM180-180h160v-160H180v160Zm440 0h160v-160H620v160Z\"/>\n",
              "  </svg>\n",
              "    </button>\n",
              "\n",
              "  <style>\n",
              "    .colab-df-container {\n",
              "      display:flex;\n",
              "      gap: 12px;\n",
              "    }\n",
              "\n",
              "    .colab-df-convert {\n",
              "      background-color: #E8F0FE;\n",
              "      border: none;\n",
              "      border-radius: 50%;\n",
              "      cursor: pointer;\n",
              "      display: none;\n",
              "      fill: #1967D2;\n",
              "      height: 32px;\n",
              "      padding: 0 0 0 0;\n",
              "      width: 32px;\n",
              "    }\n",
              "\n",
              "    .colab-df-convert:hover {\n",
              "      background-color: #E2EBFA;\n",
              "      box-shadow: 0px 1px 2px rgba(60, 64, 67, 0.3), 0px 1px 3px 1px rgba(60, 64, 67, 0.15);\n",
              "      fill: #174EA6;\n",
              "    }\n",
              "\n",
              "    .colab-df-buttons div {\n",
              "      margin-bottom: 4px;\n",
              "    }\n",
              "\n",
              "    [theme=dark] .colab-df-convert {\n",
              "      background-color: #3B4455;\n",
              "      fill: #D2E3FC;\n",
              "    }\n",
              "\n",
              "    [theme=dark] .colab-df-convert:hover {\n",
              "      background-color: #434B5C;\n",
              "      box-shadow: 0px 1px 3px 1px rgba(0, 0, 0, 0.15);\n",
              "      filter: drop-shadow(0px 1px 2px rgba(0, 0, 0, 0.3));\n",
              "      fill: #FFFFFF;\n",
              "    }\n",
              "  </style>\n",
              "\n",
              "    <script>\n",
              "      const buttonEl =\n",
              "        document.querySelector('#df-938bf871-8f85-4416-8c3e-f57bdf008464 button.colab-df-convert');\n",
              "      buttonEl.style.display =\n",
              "        google.colab.kernel.accessAllowed ? 'block' : 'none';\n",
              "\n",
              "      async function convertToInteractive(key) {\n",
              "        const element = document.querySelector('#df-938bf871-8f85-4416-8c3e-f57bdf008464');\n",
              "        const dataTable =\n",
              "          await google.colab.kernel.invokeFunction('convertToInteractive',\n",
              "                                                    [key], {});\n",
              "        if (!dataTable) return;\n",
              "\n",
              "        const docLinkHtml = 'Like what you see? Visit the ' +\n",
              "          '<a target=\"_blank\" href=https://colab.research.google.com/notebooks/data_table.ipynb>data table notebook</a>'\n",
              "          + ' to learn more about interactive tables.';\n",
              "        element.innerHTML = '';\n",
              "        dataTable['output_type'] = 'display_data';\n",
              "        await google.colab.output.renderOutput(dataTable, element);\n",
              "        const docLink = document.createElement('div');\n",
              "        docLink.innerHTML = docLinkHtml;\n",
              "        element.appendChild(docLink);\n",
              "      }\n",
              "    </script>\n",
              "  </div>\n",
              "\n",
              "\n",
              "<div id=\"df-5843b9ac-b819-4474-8def-abf230d58db2\">\n",
              "  <button class=\"colab-df-quickchart\" onclick=\"quickchart('df-5843b9ac-b819-4474-8def-abf230d58db2')\"\n",
              "            title=\"Suggest charts\"\n",
              "            style=\"display:none;\">\n",
              "\n",
              "<svg xmlns=\"http://www.w3.org/2000/svg\" height=\"24px\"viewBox=\"0 0 24 24\"\n",
              "     width=\"24px\">\n",
              "    <g>\n",
              "        <path d=\"M19 3H5c-1.1 0-2 .9-2 2v14c0 1.1.9 2 2 2h14c1.1 0 2-.9 2-2V5c0-1.1-.9-2-2-2zM9 17H7v-7h2v7zm4 0h-2V7h2v10zm4 0h-2v-4h2v4z\"/>\n",
              "    </g>\n",
              "</svg>\n",
              "  </button>\n",
              "\n",
              "<style>\n",
              "  .colab-df-quickchart {\n",
              "      --bg-color: #E8F0FE;\n",
              "      --fill-color: #1967D2;\n",
              "      --hover-bg-color: #E2EBFA;\n",
              "      --hover-fill-color: #174EA6;\n",
              "      --disabled-fill-color: #AAA;\n",
              "      --disabled-bg-color: #DDD;\n",
              "  }\n",
              "\n",
              "  [theme=dark] .colab-df-quickchart {\n",
              "      --bg-color: #3B4455;\n",
              "      --fill-color: #D2E3FC;\n",
              "      --hover-bg-color: #434B5C;\n",
              "      --hover-fill-color: #FFFFFF;\n",
              "      --disabled-bg-color: #3B4455;\n",
              "      --disabled-fill-color: #666;\n",
              "  }\n",
              "\n",
              "  .colab-df-quickchart {\n",
              "    background-color: var(--bg-color);\n",
              "    border: none;\n",
              "    border-radius: 50%;\n",
              "    cursor: pointer;\n",
              "    display: none;\n",
              "    fill: var(--fill-color);\n",
              "    height: 32px;\n",
              "    padding: 0;\n",
              "    width: 32px;\n",
              "  }\n",
              "\n",
              "  .colab-df-quickchart:hover {\n",
              "    background-color: var(--hover-bg-color);\n",
              "    box-shadow: 0 1px 2px rgba(60, 64, 67, 0.3), 0 1px 3px 1px rgba(60, 64, 67, 0.15);\n",
              "    fill: var(--button-hover-fill-color);\n",
              "  }\n",
              "\n",
              "  .colab-df-quickchart-complete:disabled,\n",
              "  .colab-df-quickchart-complete:disabled:hover {\n",
              "    background-color: var(--disabled-bg-color);\n",
              "    fill: var(--disabled-fill-color);\n",
              "    box-shadow: none;\n",
              "  }\n",
              "\n",
              "  .colab-df-spinner {\n",
              "    border: 2px solid var(--fill-color);\n",
              "    border-color: transparent;\n",
              "    border-bottom-color: var(--fill-color);\n",
              "    animation:\n",
              "      spin 1s steps(1) infinite;\n",
              "  }\n",
              "\n",
              "  @keyframes spin {\n",
              "    0% {\n",
              "      border-color: transparent;\n",
              "      border-bottom-color: var(--fill-color);\n",
              "      border-left-color: var(--fill-color);\n",
              "    }\n",
              "    20% {\n",
              "      border-color: transparent;\n",
              "      border-left-color: var(--fill-color);\n",
              "      border-top-color: var(--fill-color);\n",
              "    }\n",
              "    30% {\n",
              "      border-color: transparent;\n",
              "      border-left-color: var(--fill-color);\n",
              "      border-top-color: var(--fill-color);\n",
              "      border-right-color: var(--fill-color);\n",
              "    }\n",
              "    40% {\n",
              "      border-color: transparent;\n",
              "      border-right-color: var(--fill-color);\n",
              "      border-top-color: var(--fill-color);\n",
              "    }\n",
              "    60% {\n",
              "      border-color: transparent;\n",
              "      border-right-color: var(--fill-color);\n",
              "    }\n",
              "    80% {\n",
              "      border-color: transparent;\n",
              "      border-right-color: var(--fill-color);\n",
              "      border-bottom-color: var(--fill-color);\n",
              "    }\n",
              "    90% {\n",
              "      border-color: transparent;\n",
              "      border-bottom-color: var(--fill-color);\n",
              "    }\n",
              "  }\n",
              "</style>\n",
              "\n",
              "  <script>\n",
              "    async function quickchart(key) {\n",
              "      const quickchartButtonEl =\n",
              "        document.querySelector('#' + key + ' button');\n",
              "      quickchartButtonEl.disabled = true;  // To prevent multiple clicks.\n",
              "      quickchartButtonEl.classList.add('colab-df-spinner');\n",
              "      try {\n",
              "        const charts = await google.colab.kernel.invokeFunction(\n",
              "            'suggestCharts', [key], {});\n",
              "      } catch (error) {\n",
              "        console.error('Error during call to suggestCharts:', error);\n",
              "      }\n",
              "      quickchartButtonEl.classList.remove('colab-df-spinner');\n",
              "      quickchartButtonEl.classList.add('colab-df-quickchart-complete');\n",
              "    }\n",
              "    (() => {\n",
              "      let quickchartButtonEl =\n",
              "        document.querySelector('#df-5843b9ac-b819-4474-8def-abf230d58db2 button');\n",
              "      quickchartButtonEl.style.display =\n",
              "        google.colab.kernel.accessAllowed ? 'block' : 'none';\n",
              "    })();\n",
              "  </script>\n",
              "</div>\n",
              "\n",
              "    </div>\n",
              "  </div>\n"
            ],
            "application/vnd.google.colaboratory.intrinsic+json": {
              "type": "dataframe",
              "variable_name": "data",
              "summary": "{\n  \"name\": \"data\",\n  \"rows\": 97447,\n  \"fields\": [\n    {\n      \"column\": \"text\",\n      \"properties\": {\n        \"dtype\": \"string\",\n        \"num_unique_values\": 97447,\n        \"samples\": [\n          \"In the article \\\"driverless cars are coming,\\\" the author presents both positive and negative aspects of driverless cars. I think that there should be driverless cars in the future. The idea of driverless cars is great, and can help save many lives.\\n\\nRight now without driverless cars there are becoming way to many accidents. Sore and more people are getting tickets by speeding and or texting while driving. With driverless cars, their will be a lot less accidents when texting. Also since the car is driving for you, it will go the right speed limit. Driverless cars still need some work, but in a couple of years it will be fixed. Each generation is becoming smarter and smarter. So if we have started to make the hard part of the driverless car, imagine what we will be able to do in a couple of years! Driverless cars can also help with traffic. Driverless cars will discover the fastest way possible to get to the drivers' location. The driver will not have to worry about as much. The car takes care of that for them!\\n\\nDriverless cars can help people from getting injured and making people less stressed. It is a great way for people to get less tickets. It will help the flow of traffic and find the shortest was possible to get to their location. With newer technology these next couple years, we will be able to make the driverless car safe and fun where everybody will love them.  \",\n          \"Everyone wants to go to the park with their children or grandchildren, or maybe just take a nice walk. With the way we live now everything will be too polluted because a lot of people drive bars and don't take the bus, walk, or carpool. Yes, people should limit their bar usage. They should limit their uses because owning a bar is expensive, it promotes the use of walking and public transportation, and it reduces smog/pollution.\\n\\nOwning a bar is more expensive than you think. In a city such as Vauban in Germany that has only two places to park, a large parking garage, and a devilment where the bar owner needs to buy the spot for forty thousand dollars along with a home. In places like Bogot\\u00e1, Columbia on their national bar free day all violates will be fined twenty five dollars. It may not seem like a lot, but it all adds up at the end of the day. In places like Paris motorist with even numbered license plates relieve a twenty two euro fine ($31), and the following day motorist with odd numbered plates revived the same fine. Almost four thousand drivers were fined. Those are just instances where fines have obscured, other expenses are gas. Some people who are wealthy and have money won't be impacted by this the same way an average family with three children will.\\n\\nMost people take public transportation for granted. Imagine if we didn't have busses, trains, and subways. Imagine having to drive to New York City instead of the subway. It is not a pretty thought. In places like Bogot\\u00e1, Columbia that has a national day without bars people use public transportation or walk, unless they want a twenty five dollar fine. According to Mayor Antennas M\\u00f6bius\\\" The rain hasn't stopped people from participating.\\\" Cities such as Cali and Valledupar have also done what Bogot\\u00e1 has done, and Municipal authorities from other countries game to see the turnout, and they were enthusiastic. New York is promoting a bike sharing program that allows people to ride bikes through the city and return them at any location. \\\"Mr. Siva ks's son lives in San Francisco and has a bar, but takes the Bay Area Rapid Transit when he bans even though it often takes longer then driving.\\\" Even though some people don't take public transportation be abuse they are too built for it, they might just need to in order to save the place they live.\\n\\nHave you ever wondered why you ban hardly see the stars at night? It's not because they aren't there, but it is be abuse the smoke from the pollution and smog is covering the view. After days of rerecord pollution Paris has enforced a partial driving ban to blear the air of all the solution. Congestion of the smog only went down sixty percent in five days. The reason was of diesel fuel which is more used because France has a tax policy that favors diesel over gasoline. Places like Bogot\\u00e1, Columbia who have a day without bars have a day for pollution and smog to be reduced, and places like Vauban, Germany who only have bars on the main thoroughfare virtually have no smog or pollution be abuse they don't allow bars in homes. Even though it's a hassle to change everything to do it, but by just doing one thing a time they are helping the environment.\\n\\nNow that we see and know that the people of Vauban, Germany live with no bars, and the people of Bogot\\u00e1, Columbia have a day with no bars. Those places don't have as much pollution such as Paris who had to ban driving, so they ban reduce pollution. We know that in Vauban you ban park the bar for forty thousand dollars, or get fined for driving on the one day you are asked not to. All those reasons only promotes public transportation or walking. So yes, people should limit there use of bars because it is expensive, it promotes the use of walking and public transportation, and it reduces smog/pollution.\",\n          \"Cars have become an essential part of our lives. We use them to get to work, school, the grocery store, and everywhere else we need to go. But cars also have a negative impact on our environment and our health.\\n\\nOne of the biggest problems with cars is that they produce a lot of pollution. Car exhaust contains harmful gases that contribute to climate change and smog. These gases can also cause respiratory problems in humans.\\n\\nIn addition to pollution, cars also take up a lot of space. We need to build roads and parking lots to accommodate all of our cars. This takes away space that could be used for other purposes, such as parks or housing.\\n\\nCars also make our cities less livable. They create traffic congestion, which makes it difficult to get around. This can lead to stress and frustration.\\n\\nFinally, cars are expensive to operate. We need to pay for gas, insurance, and maintenance. This can be a burden for many people, especially those who are living paycheck to paycheck.\\n\\nThere are many ways to limit car usage. One way is to walk or bike whenever possible. This is a great way to get exercise and fresh air. Ynother way is to take public transportation. This can be a more affordable and environmentally friendly option than driving.\\n\\nWe can also support policies that encourage people to limit car usage. For example, we can support the construction of more bike lanes and public transportation. We can also support policies that make it more expensive to drive, such as higher gas taxes.\\n\\nLimiting car usage has many benefits. It can improve our air quality, reduce our carbon footprint, and make our cities more livable. It can also save us money.\\n\\nIf we want to create a more sustainable and livable future, we need to limit car usage. There are many ways to do this, and we can all play a role.\\n\\nHere are some additional details on the benefits of limiting car usage:\\n\\n* air quality: Cars are a major source of air pollution. When we limit car usage, we improve the air quality in our cities and towns. This can lead to improved health outcomes for everyone.\\n* Carbon footprint: Cars also contribute to climate change. When we limit car usage, we reduce our carbon footprint and help to protect the environment.\\n* Livability: Cars can make our cities less livable. They create traffic congestion, which makes it difficult to get around. They also take up space that could be used for other purposes, such as parks or housing. When we limit car usage, we make our cities more livable for everyone.\\n* Cost: Cars are expensive to operate. We need to pay for gas, insurance, and maintenance. This can be a burden for many people, especially those who are living paycheck to paycheck. When we limit car usage, we can save money.\\n\\nThere are many ways to limit car usage. We can walk or bike whenever possible. We can take public transportation. Furthermore, we can support policies that encourage people to limit car usage. When we all work together, we can create a more sustainable and livable future.\"\n        ],\n        \"semantic_type\": \"\",\n        \"description\": \"\"\n      }\n    },\n    {\n      \"column\": \"generated\",\n      \"properties\": {\n        \"dtype\": \"number\",\n        \"std\": 0.4834432036350229,\n        \"min\": 0.0,\n        \"max\": 1.0,\n        \"num_unique_values\": 2,\n        \"samples\": [\n          0.0,\n          1.0\n        ],\n        \"semantic_type\": \"\",\n        \"description\": \"\"\n      }\n    }\n  ]\n}"
            }
          },
          "metadata": {},
          "execution_count": 16
        }
      ],
      "source": [
        "import pandas as pd\n",
        "# Load the dataset\n",
        "data = pd.read_csv(\"human_or_ai.csv\")\n",
        "\n",
        "# Check for missing values\n",
        "print(data.isnull().sum())\n",
        "\n",
        "data.head(20)\n"
      ]
    },
    {
      "cell_type": "markdown",
      "id": "5dcf3257-ed0a-464c-84f6-665177dbb104",
      "metadata": {
        "id": "5dcf3257-ed0a-464c-84f6-665177dbb104"
      },
      "source": [
        "### Task 2\n",
        "#### Data Preparation:\n",
        "\n",
        "* Split the dataset into features (X) and labels (y).\n",
        "* Convert text data into a format suitable for deep learning models (e.g., tokenization, vectorization).\n",
        "* <font color=red>Split the dataset into training and testing sets (80% training, 20% testing).</font>\n",
        "* <font color=red> Display the first 10 testing dataset (X_test)</font>"
      ]
    },
    {
      "cell_type": "code",
      "execution_count": null,
      "id": "11713221-1655-4dd7-a82c-4f82ef896a5f",
      "metadata": {
        "tags": [],
        "colab": {
          "base_uri": "https://localhost:8080/"
        },
        "id": "11713221-1655-4dd7-a82c-4f82ef896a5f",
        "outputId": "b5f38045-61c7-4fe7-9ec0-067e6a59c19b"
      },
      "outputs": [
        {
          "output_type": "stream",
          "name": "stdout",
          "text": [
            "X,y Train and X,y Test :  ((77957, 1560), (77957,), (19490, 1560), (19490,))\n"
          ]
        }
      ],
      "source": [
        "from sklearn.model_selection import train_test_split\n",
        "from sklearn.preprocessing import LabelEncoder\n",
        "from keras.preprocessing.text import Tokenizer\n",
        "from keras.preprocessing.sequence import pad_sequences\n",
        "\n",
        "# Data preprocessing\n",
        "X = data['text']\n",
        "y = data['generated']\n",
        "\n",
        "# Encode labels\n",
        "label_encoder = LabelEncoder()\n",
        "y = label_encoder.fit_transform(y)\n",
        "\n",
        "# Tokenization and padding\n",
        "max_features = 5000\n",
        "tokenizer = Tokenizer(num_words=max_features, split=' ')\n",
        "tokenizer.fit_on_texts(X)\n",
        "X = tokenizer.texts_to_sequences(X)\n",
        "X = pad_sequences(X)\n",
        "\n",
        "X_train, X_test, y_train, y_test = train_test_split(X, y, test_size=0.2, random_state=42)\n",
        "\n",
        "print(f\"X,y Train and X,y Test :  {X_train.shape,y_train.shape,X_test.shape,y_test.shape}\")"
      ]
    },
    {
      "cell_type": "markdown",
      "id": "9d85399c-4a1d-415b-9726-8050abeeffd1",
      "metadata": {
        "id": "9d85399c-4a1d-415b-9726-8050abeeffd1"
      },
      "source": [
        "### Task 3\n",
        "#### Model Building:\n",
        "\n",
        "* Define the embedding_dim parameter and explain its purpose in the context of the Embedding layer.\n",
        "* * In natural language processing (NLP) tasks, words are typically represented as high-dimensional vectors in a space where each dimension represents a feature or aspect of the word. However, working with high-dimensional word representations can be computationally expensive and may lead to overfitting, especially when dealing with large vocabularies.\n",
        "\n",
        "* * The Embedding layer in a neural network allows us to learn a lower-dimensional representation (embedding) for each word in the vocabulary. The embedding_dim parameter specifies the dimensionality of this embedding space. By reducing the dimensionality of the word representations, we can capture semantic relationships between words more efficiently while reducing the computational burden.\n",
        "\n",
        "* * Typically, the embedding_dim parameter is a hyperparameter that needs to be tuned during model development. It's often chosen based on empirical experimentation and performance evaluation on the specific dataset and task at hand. In practice, common values for embedding_dim range from 50 to 300, depending on the size of the vocabulary and the complexity of the task.\n",
        "* Choose an appropriate neural network architecture for text classification.\n",
        "* <font color=red>Build the neural network model using the Embedding layer followed by Flatten and Dense layers.</font>\n",
        "* <font color=red>Compile the model, specifying the loss function, optimizer, and evaluation metric.</font>\n",
        "* <font color=red> Display model arcitecture and trainable parameters</font>"
      ]
    },
    {
      "cell_type": "code",
      "execution_count": null,
      "id": "945dadef-a4a3-4ccf-b8e6-0a3f2e1d6177",
      "metadata": {
        "tags": [],
        "colab": {
          "base_uri": "https://localhost:8080/"
        },
        "id": "945dadef-a4a3-4ccf-b8e6-0a3f2e1d6177",
        "outputId": "3ada16fc-8a7f-4ff2-d869-717ef8433239"
      },
      "outputs": [
        {
          "output_type": "stream",
          "name": "stdout",
          "text": [
            "Model: \"sequential\"\n",
            "_________________________________________________________________\n",
            " Layer (type)                Output Shape              Param #   \n",
            "=================================================================\n",
            " embedding (Embedding)       (None, 1560, 128)         640000    \n",
            "                                                                 \n",
            " flatten (Flatten)           (None, 199680)            0         \n",
            "                                                                 \n",
            " dense (Dense)               (None, 128)               25559168  \n",
            "                                                                 \n",
            " dense_1 (Dense)             (None, 1)                 129       \n",
            "                                                                 \n",
            "=================================================================\n",
            "Total params: 26199297 (99.94 MB)\n",
            "Trainable params: 26199297 (99.94 MB)\n",
            "Non-trainable params: 0 (0.00 Byte)\n",
            "_________________________________________________________________\n"
          ]
        }
      ],
      "source": [
        "from keras.models import Sequential\n",
        "from keras.layers import Dense, Embedding, Flatten, Dropout\n",
        "\n",
        "# Model building\n",
        "embedding_dim = 128\n",
        "\n",
        "model = Sequential([\n",
        "    Embedding(max_features, embedding_dim, input_length=X.shape[1]),\n",
        "    Flatten(),\n",
        "    Dense(128, activation='relu'),\n",
        "    Dense(1, activation='sigmoid')\n",
        "])\n",
        "\n",
        "# Compile the model\n",
        "model.compile(optimizer='adam',\n",
        "              loss='binary_crossentropy',\n",
        "              metrics=['accuracy'])\n",
        "\n",
        "# Display model architecture\n",
        "model.summary()"
      ]
    },
    {
      "cell_type": "markdown",
      "id": "8b61c3c2-906a-4377-979e-2c4180065898",
      "metadata": {
        "id": "8b61c3c2-906a-4377-979e-2c4180065898"
      },
      "source": [
        "### Task 3\n",
        "#### Model Training:\n",
        "\n",
        "* <font color=red> Train the neural network model on the training dataset.</font>\n",
        "* <font color=red> Monitor the training process by tracking metrics such as loss and accuracy. Use with graphs to show appoportate training (accuracy and loss </font>"
      ]
    },
    {
      "cell_type": "code",
      "execution_count": null,
      "id": "66c4c6f8-d00e-4e44-b644-dbebacde1ebb",
      "metadata": {
        "tags": [],
        "colab": {
          "base_uri": "https://localhost:8080/"
        },
        "id": "66c4c6f8-d00e-4e44-b644-dbebacde1ebb",
        "outputId": "b0705f0b-691c-4b11-cf43-c80d2cafd262"
      },
      "outputs": [
        {
          "output_type": "stream",
          "name": "stdout",
          "text": [
            "Epoch 1/10\n",
            "50/50 [==============================] - 123s 2s/step - loss: 0.0062 - accuracy: 0.9975 - val_loss: 0.0173 - val_accuracy: 0.9950\n",
            "Epoch 2/10\n",
            "50/50 [==============================] - 78s 2s/step - loss: 0.0027 - accuracy: 0.9994 - val_loss: 0.0180 - val_accuracy: 0.9944\n",
            "Epoch 3/10\n",
            "50/50 [==============================] - 123s 2s/step - loss: 0.0068 - accuracy: 0.9981 - val_loss: 0.0171 - val_accuracy: 0.9953\n",
            "Epoch 4/10\n",
            "50/50 [==============================] - 120s 2s/step - loss: 0.0018 - accuracy: 1.0000 - val_loss: 0.0213 - val_accuracy: 0.9944\n",
            "Epoch 5/10\n",
            "50/50 [==============================] - 89s 2s/step - loss: 0.0068 - accuracy: 0.9962 - val_loss: 0.0248 - val_accuracy: 0.9937\n",
            "Epoch 6/10\n",
            "50/50 [==============================] - 123s 2s/step - loss: 0.0116 - accuracy: 0.9969 - val_loss: 0.0221 - val_accuracy: 0.9931\n"
          ]
        }
      ],
      "source": [
        "import tensorflow as tf\n",
        "early_stopping = tf.keras.callbacks.EarlyStopping(monitor='val_loss', patience=3, restore_best_weights=True)\n",
        "\n",
        "history = model.fit(X_train,y_train,epochs=10,batch_size=32,validation_data=(X_test,y_test),steps_per_epoch=50,callbacks=[early_stopping])"
      ]
    },
    {
      "cell_type": "code",
      "source": [
        "import matplotlib.pyplot as plt\n",
        "\n",
        "history_dict = history.history\n",
        "\n",
        "# Extract loss and accuracy values\n",
        "train_loss = history_dict['loss']\n",
        "val_loss = history_dict['val_loss']\n",
        "train_accuracy = history_dict['accuracy']\n",
        "val_accuracy = history_dict['val_accuracy']\n",
        "\n",
        "# Plot training and validation loss\n",
        "plt.figure(figsize=(12, 5))\n",
        "plt.subplot(1, 2, 1)\n",
        "plt.plot(range(1, len(train_loss) + 1), train_loss, label='Training Loss')\n",
        "plt.plot(range(1, len(val_loss) + 1), val_loss, label='Validation Loss')\n",
        "plt.title('Training and Validation Loss')\n",
        "plt.xlabel('Epochs')\n",
        "plt.ylabel('Loss')\n",
        "plt.legend()\n",
        "\n",
        "# Plot training and validation accuracy\n",
        "plt.subplot(1, 2, 2)\n",
        "plt.plot(range(1, len(train_accuracy) + 1), train_accuracy, label='Training Accuracy')\n",
        "plt.plot(range(1, len(val_accuracy) + 1), val_accuracy, label='Validation Accuracy')\n",
        "plt.title('Training and Validation Accuracy')\n",
        "plt.xlabel('Epochs')\n",
        "plt.ylabel('Accuracy')\n",
        "plt.legend()\n",
        "\n",
        "# Show plots\n",
        "plt.tight_layout()\n",
        "plt.show()"
      ],
      "metadata": {
        "colab": {
          "base_uri": "https://localhost:8080/",
          "height": 507
        },
        "id": "4rDRre8-rKkN",
        "outputId": "10e0e6fc-765b-48d0-dc0e-fb858d244408"
      },
      "id": "4rDRre8-rKkN",
      "execution_count": null,
      "outputs": [
        {
          "output_type": "display_data",
          "data": {
            "text/plain": [
              "<Figure size 1200x500 with 2 Axes>"
            ],
            "image/png": "[encoded data removed]"
          },
          "metadata": {}
        }
      ]
    },
    {
      "cell_type": "markdown",
      "id": "c468634d-64bc-4ae8-9cdd-9235544e854a",
      "metadata": {
        "id": "c468634d-64bc-4ae8-9cdd-9235544e854a"
      },
      "source": [
        "### Task 4\n",
        "#### Model Evaluation:\n",
        "\n",
        "* <font color= red> Evaluate the trained model on the testing dataset to assess its performance.</font>\n",
        "* <font color= red> Calculate evaluation metrics using accuracy, precision, recall, and F1-score.<font>"
      ]
    },
    {
      "cell_type": "code",
      "execution_count": null,
      "id": "2783bfb8-2486-4c12-83a9-682018a422bd",
      "metadata": {
        "tags": [],
        "colab": {
          "base_uri": "https://localhost:8080/"
        },
        "id": "2783bfb8-2486-4c12-83a9-682018a422bd",
        "outputId": "14aaee88-ac2a-4b5b-c618-f120194bd1ae"
      },
      "outputs": [
        {
          "output_type": "stream",
          "name": "stdout",
          "text": [
            "610/610 [==============================] - 50s 82ms/step - loss: 0.0171 - accuracy: 0.9953\n",
            "Test Loss: 0.017056914046406746\n",
            "Test Accuracy: 0.9953309297561646\n"
          ]
        }
      ],
      "source": [
        "# Model evaluation\n",
        "loss, accuracy = model.evaluate(X_test, y_test)\n",
        "print(f'Test Loss: {loss}')\n",
        "print(f'Test Accuracy: {accuracy}')"
      ]
    },
    {
      "cell_type": "code",
      "source": [
        "from sklearn.metrics import confusion_matrix\n",
        "import seaborn as sns\n",
        "\n",
        "\n",
        "# Predict probabilities for test set\n",
        "y_pred_prob = model.predict(X_test)\n",
        "\n",
        "# Convert probabilities to class labels\n",
        "y_pred = (y_pred_prob > 0.5).astype(int)\n",
        "\n",
        "# Generate confusion matrix\n",
        "cm = confusion_matrix(y_test, y_pred)\n",
        "\n",
        "# Plot confusion matrix\n",
        "plt.figure(figsize=(8, 6))\n",
        "sns.heatmap(cm, annot=True, fmt=\"d\", cmap=\"Blues\", cbar=False)\n",
        "plt.title(\"Confusion Matrix\")\n",
        "plt.xlabel(\"Predicted Label\")\n",
        "plt.ylabel(\"True Label\")\n",
        "plt.show()\n",
        "\n",
        "\n",
        "print(cm)"
      ],
      "metadata": {
        "colab": {
          "base_uri": "https://localhost:8080/",
          "height": 618
        },
        "id": "c4aYm0MR3hPS",
        "outputId": "979b52c5-1945-4d3a-8aa6-726df0cc3547"
      },
      "id": "c4aYm0MR3hPS",
      "execution_count": null,
      "outputs": [
        {
          "output_type": "stream",
          "name": "stdout",
          "text": [
            "610/610 [==============================] - 64s 105ms/step\n"
          ]
        },
        {
          "output_type": "display_data",
          "data": {
            "text/plain": [
              "<Figure size 800x600 with 1 Axes>"
            ],
            "image/png": "[encoded data removed]"
          },
          "metadata": {}
        },
        {
          "output_type": "stream",
          "name": "stdout",
          "text": [
            "[[12183    31]\n",
            " [   60  7216]]\n"
          ]
        }
      ]
    },
    {
      "cell_type": "code",
      "source": [
        "from sklearn.metrics import accuracy_score, precision_score, recall_score, f1_score\n",
        "\n",
        "# Calculate accuracy\n",
        "accuracy = accuracy_score(y_test, y_pred)\n",
        "\n",
        "# Calculate precision\n",
        "precision = precision_score(y_test, y_pred)\n",
        "\n",
        "# Calculate recall\n",
        "recall = recall_score(y_test, y_pred)\n",
        "\n",
        "# Calculate F1-score\n",
        "f1 = f1_score(y_test, y_pred)\n",
        "\n",
        "print(\"Accuracy:\", accuracy)\n",
        "print(\"Precision:\", precision)\n",
        "print(\"Recall:\", recall)\n",
        "print(\"F1-score:\", f1)\n"
      ],
      "metadata": {
        "colab": {
          "base_uri": "https://localhost:8080/"
        },
        "id": "htwHrKC4HNDx",
        "outputId": "3a5155ba-0f66-4758-b836-e84c482ecb11"
      },
      "id": "htwHrKC4HNDx",
      "execution_count": null,
      "outputs": [
        {
          "output_type": "stream",
          "name": "stdout",
          "text": [
            "Accuracy: 0.9953309389430477\n",
            "Precision: 0.9957223678763626\n",
            "Recall: 0.9917537108301264\n",
            "F1-score: 0.9937340769813399\n"
          ]
        }
      ]
    },
    {
      "cell_type": "markdown",
      "id": "137bde61-10ab-4267-859a-b083727bd273",
      "metadata": {
        "tags": [],
        "id": "137bde61-10ab-4267-859a-b083727bd273"
      },
      "source": [
        "### Task 5\n",
        "\n",
        "#### Conclusion and Conideration:\n",
        "\n",
        "* Summarize the findings from the model evaluation.\n",
        "* Explain the importance of hyperparameter tuning, including embedding_dim, in optimizing model performance.\n"
      ]
    },
    {
      "cell_type": "markdown",
      "source": [
        "### Performance Evaluation:\n",
        "Our analysis of the model's performance has provided valuable insights into its efficacy and convergence behavior.\n",
        "\n",
        "### Training Dynamics:\n",
        "Through rigorous evaluation metrics and scrutiny of training dynamics, we identified areas of strength and potential improvement.\n",
        "\n",
        "### Confusion Matrix Analysis:\n",
        "The examination of the confusion matrix revealed nuanced patterns of misclassification, informing targeted refinement strategies.\n",
        "\n",
        "### Importance of Hyperparameter Tuning:\n",
        "Hyperparameter tuning, particularly the adjustment of parameters like embedding_dim, plays a crucial role in optimizing model flexibility and mitigating overfitting.\n",
        "\n",
        "### Enhancing Model Performance:\n",
        "By fine-tuning these parameters, we enhance the model's performance, ensuring robust generalization and superior predictive capabilities tailored to specific task requirements.\n",
        "\n",
        "\n",
        "#Due to embedding ,model processign was very fast and accurasy high from start  "
      ],
      "metadata": {
        "id": "Awte2Xqp5umO"
      },
      "id": "Awte2Xqp5umO"
    }
  ],
  "metadata": {
    "kernelspec": {
      "display_name": "Python 3 (ipykernel)",
      "language": "python",
      "name": "python3"
    },
    "language_info": {
      "codemirror_mode": {
        "name": "ipython",
        "version": 3
      },
      "file_extension": ".py",
      "mimetype": "text/x-python",
      "name": "python",
      "nbconvert_exporter": "python",
      "pygments_lexer": "ipython3",
      "version": "3.11.7"
    },
    "colab": {
      "provenance": [],
      "include_colab_link": true
    }
  },
  "nbformat": 4,
  "nbformat_minor": 5
}